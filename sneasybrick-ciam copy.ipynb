{
 "cells": [
  {
   "cell_type": "code",
   "execution_count": 5,
   "metadata": {},
   "outputs": [],
   "source": [
    "import matplotlib.pyplot as plt\n",
    "import numpy as np\n",
    "import pandas as pd\n",
    "import seaborn as sns\n",
    "\n",
    "\n",
    "from collections import OrderedDict\n",
    "from sklearn.tree import plot_tree\n",
    "from sklearn.ensemble import RandomForestRegressor\n",
    "from sklearn.ensemble import RandomForestClassifier\n",
    "from sklearn.model_selection import GridSearchCV\n",
    "from sklearn.metrics import accuracy_score\n",
    "from sklearn.metrics import mean_squared_error\n",
    "from sklearn.inspection import permutation_importance\n",
    "from sklearn.model_selection import train_test_split\n",
    "from sklearn.preprocessing import StandardScaler"
   ]
  },
  {
   "cell_type": "code",
   "execution_count": 6,
   "metadata": {},
   "outputs": [],
   "source": [
    "# Loading Data\n",
    "X1 = pd.read_csv(\"Data\\parameters_subsample_sneasybrick.csv\") \n",
    "X2 = pd.read_csv(\"Data\\sneasybrick-ciam_CIAMparameterSamples_nyc_ssp1-26.csv\") \n",
    "Y = pd.read_csv(\"Data\\sneasybrick-ciam_NPVtrials_nyc_ssp1-26.csv\") "
   ]
  },
  {
   "cell_type": "code",
   "execution_count": 7,
   "metadata": {},
   "outputs": [],
   "source": [
    "X = pd.concat([X1, X2], axis=1)"
   ]
  },
  {
   "cell_type": "code",
   "execution_count": 8,
   "metadata": {},
   "outputs": [],
   "source": [
    "# Extracting Feature names\n",
    "feature_names = X.columns"
   ]
  },
  {
   "cell_type": "code",
   "execution_count": 9,
   "metadata": {},
   "outputs": [],
   "source": [
    "# Splitting the data\n",
    "X_train, X_test, y_train, y_test = train_test_split(X, Y, test_size=0.3, random_state=10)"
   ]
  },
  {
   "cell_type": "code",
   "execution_count": 10,
   "metadata": {},
   "outputs": [
    {
     "data": {
      "text/html": [
       "<div>\n",
       "<style scoped>\n",
       "    .dataframe tbody tr th:only-of-type {\n",
       "        vertical-align: middle;\n",
       "    }\n",
       "\n",
       "    .dataframe tbody tr th {\n",
       "        vertical-align: top;\n",
       "    }\n",
       "\n",
       "    .dataframe thead th {\n",
       "        text-align: right;\n",
       "    }\n",
       "</style>\n",
       "<table border=\"1\" class=\"dataframe\">\n",
       "  <thead>\n",
       "    <tr style=\"text-align: right;\">\n",
       "      <th></th>\n",
       "      <th>sd_temp</th>\n",
       "      <th>sd_ocean_heat</th>\n",
       "      <th>sd_glaciers</th>\n",
       "      <th>sd_greenland</th>\n",
       "      <th>sd_antarctic</th>\n",
       "      <th>sd_gmsl</th>\n",
       "      <th>sigma_whitenoise_co2</th>\n",
       "      <th>rho_temperature</th>\n",
       "      <th>rho_ocean_heat</th>\n",
       "      <th>rho_glaciers</th>\n",
       "      <th>...</th>\n",
       "      <th>antarctic_bed_height0</th>\n",
       "      <th>antarctic_slope</th>\n",
       "      <th>antarctic_lambda</th>\n",
       "      <th>antarctic_temp_threshold</th>\n",
       "      <th>dvbm</th>\n",
       "      <th>movefactor</th>\n",
       "      <th>vslel</th>\n",
       "      <th>vslmult</th>\n",
       "      <th>wvel</th>\n",
       "      <th>wvpdl</th>\n",
       "    </tr>\n",
       "  </thead>\n",
       "  <tbody>\n",
       "    <tr>\n",
       "      <th>0</th>\n",
       "      <td>0.088864</td>\n",
       "      <td>1.629600</td>\n",
       "      <td>0.000602</td>\n",
       "      <td>0.000234</td>\n",
       "      <td>0.000614</td>\n",
       "      <td>0.001400</td>\n",
       "      <td>0.171280</td>\n",
       "      <td>0.519427</td>\n",
       "      <td>0.688367</td>\n",
       "      <td>-0.770486</td>\n",
       "      <td>...</td>\n",
       "      <td>816.365551</td>\n",
       "      <td>0.000718</td>\n",
       "      <td>0.018500</td>\n",
       "      <td>-15.368459</td>\n",
       "      <td>1.339955</td>\n",
       "      <td>2.721848</td>\n",
       "      <td>0.620649</td>\n",
       "      <td>127.598114</td>\n",
       "      <td>1.125517</td>\n",
       "      <td>0.606852</td>\n",
       "    </tr>\n",
       "    <tr>\n",
       "      <th>1</th>\n",
       "      <td>0.080426</td>\n",
       "      <td>3.439531</td>\n",
       "      <td>0.000060</td>\n",
       "      <td>0.000259</td>\n",
       "      <td>0.000484</td>\n",
       "      <td>0.001208</td>\n",
       "      <td>0.148203</td>\n",
       "      <td>0.516640</td>\n",
       "      <td>0.152661</td>\n",
       "      <td>-0.447865</td>\n",
       "      <td>...</td>\n",
       "      <td>781.222923</td>\n",
       "      <td>0.000729</td>\n",
       "      <td>0.006969</td>\n",
       "      <td>-15.232859</td>\n",
       "      <td>10.387613</td>\n",
       "      <td>2.657516</td>\n",
       "      <td>0.237318</td>\n",
       "      <td>29.810800</td>\n",
       "      <td>1.022699</td>\n",
       "      <td>0.458705</td>\n",
       "    </tr>\n",
       "    <tr>\n",
       "      <th>2</th>\n",
       "      <td>0.086473</td>\n",
       "      <td>3.366415</td>\n",
       "      <td>0.000925</td>\n",
       "      <td>0.000235</td>\n",
       "      <td>0.000282</td>\n",
       "      <td>0.001972</td>\n",
       "      <td>0.254878</td>\n",
       "      <td>0.539274</td>\n",
       "      <td>0.971248</td>\n",
       "      <td>0.042140</td>\n",
       "      <td>...</td>\n",
       "      <td>750.372840</td>\n",
       "      <td>0.000581</td>\n",
       "      <td>0.011781</td>\n",
       "      <td>-15.445140</td>\n",
       "      <td>4.872005</td>\n",
       "      <td>0.811141</td>\n",
       "      <td>0.431712</td>\n",
       "      <td>455.707640</td>\n",
       "      <td>1.177063</td>\n",
       "      <td>0.479436</td>\n",
       "    </tr>\n",
       "    <tr>\n",
       "      <th>3</th>\n",
       "      <td>0.076089</td>\n",
       "      <td>1.891433</td>\n",
       "      <td>0.000109</td>\n",
       "      <td>0.000233</td>\n",
       "      <td>0.000504</td>\n",
       "      <td>0.001947</td>\n",
       "      <td>0.183595</td>\n",
       "      <td>0.593196</td>\n",
       "      <td>0.253260</td>\n",
       "      <td>0.418986</td>\n",
       "      <td>...</td>\n",
       "      <td>792.667225</td>\n",
       "      <td>0.000707</td>\n",
       "      <td>0.008628</td>\n",
       "      <td>-15.017208</td>\n",
       "      <td>5.230373</td>\n",
       "      <td>0.681943</td>\n",
       "      <td>0.190644</td>\n",
       "      <td>218.819788</td>\n",
       "      <td>1.367217</td>\n",
       "      <td>0.523028</td>\n",
       "    </tr>\n",
       "    <tr>\n",
       "      <th>4</th>\n",
       "      <td>0.084604</td>\n",
       "      <td>2.008197</td>\n",
       "      <td>0.000093</td>\n",
       "      <td>0.000235</td>\n",
       "      <td>0.000441</td>\n",
       "      <td>0.002264</td>\n",
       "      <td>0.309075</td>\n",
       "      <td>0.490472</td>\n",
       "      <td>0.951380</td>\n",
       "      <td>-0.722653</td>\n",
       "      <td>...</td>\n",
       "      <td>755.557749</td>\n",
       "      <td>0.000668</td>\n",
       "      <td>0.009988</td>\n",
       "      <td>-15.316005</td>\n",
       "      <td>4.900519</td>\n",
       "      <td>1.749835</td>\n",
       "      <td>0.495039</td>\n",
       "      <td>329.943603</td>\n",
       "      <td>0.961014</td>\n",
       "      <td>0.181124</td>\n",
       "    </tr>\n",
       "  </tbody>\n",
       "</table>\n",
       "<p>5 rows × 57 columns</p>\n",
       "</div>"
      ],
      "text/plain": [
       "    sd_temp  sd_ocean_heat  sd_glaciers  sd_greenland  sd_antarctic   sd_gmsl  \\\n",
       "0  0.088864       1.629600     0.000602      0.000234      0.000614  0.001400   \n",
       "1  0.080426       3.439531     0.000060      0.000259      0.000484  0.001208   \n",
       "2  0.086473       3.366415     0.000925      0.000235      0.000282  0.001972   \n",
       "3  0.076089       1.891433     0.000109      0.000233      0.000504  0.001947   \n",
       "4  0.084604       2.008197     0.000093      0.000235      0.000441  0.002264   \n",
       "\n",
       "   sigma_whitenoise_co2  rho_temperature  rho_ocean_heat  rho_glaciers  ...  \\\n",
       "0              0.171280         0.519427        0.688367     -0.770486  ...   \n",
       "1              0.148203         0.516640        0.152661     -0.447865  ...   \n",
       "2              0.254878         0.539274        0.971248      0.042140  ...   \n",
       "3              0.183595         0.593196        0.253260      0.418986  ...   \n",
       "4              0.309075         0.490472        0.951380     -0.722653  ...   \n",
       "\n",
       "   antarctic_bed_height0  antarctic_slope  antarctic_lambda  \\\n",
       "0             816.365551         0.000718          0.018500   \n",
       "1             781.222923         0.000729          0.006969   \n",
       "2             750.372840         0.000581          0.011781   \n",
       "3             792.667225         0.000707          0.008628   \n",
       "4             755.557749         0.000668          0.009988   \n",
       "\n",
       "   antarctic_temp_threshold       dvbm  movefactor     vslel     vslmult  \\\n",
       "0                -15.368459   1.339955    2.721848  0.620649  127.598114   \n",
       "1                -15.232859  10.387613    2.657516  0.237318   29.810800   \n",
       "2                -15.445140   4.872005    0.811141  0.431712  455.707640   \n",
       "3                -15.017208   5.230373    0.681943  0.190644  218.819788   \n",
       "4                -15.316005   4.900519    1.749835  0.495039  329.943603   \n",
       "\n",
       "       wvel     wvpdl  \n",
       "0  1.125517  0.606852  \n",
       "1  1.022699  0.458705  \n",
       "2  1.177063  0.479436  \n",
       "3  1.367217  0.523028  \n",
       "4  0.961014  0.181124  \n",
       "\n",
       "[5 rows x 57 columns]"
      ]
     },
     "execution_count": 10,
     "metadata": {},
     "output_type": "execute_result"
    }
   ],
   "source": [
    "X.head()"
   ]
  },
  {
   "cell_type": "code",
   "execution_count": 11,
   "metadata": {},
   "outputs": [],
   "source": [
    "# Standardizing the data.\n",
    "scaler = StandardScaler().fit(X_train[feature_names]) \n",
    "\n",
    "X_train[feature_names] = scaler.transform(X_train[feature_names])\n",
    "X_test[feature_names] = scaler.transform(X_test[feature_names])"
   ]
  },
  {
   "cell_type": "code",
   "execution_count": 12,
   "metadata": {},
   "outputs": [],
   "source": [
    "# Creating test and train sets\n",
    "df_train = y_train.join(X_train)\n",
    "df_test = y_test.join(X_test)\n",
    "y_train = np.ravel(y_train)\n",
    "y_test = np.ravel(y_test)"
   ]
  },
  {
   "cell_type": "code",
   "execution_count": 13,
   "metadata": {},
   "outputs": [
    {
     "data": {
      "text/html": [
       "<div>\n",
       "<style scoped>\n",
       "    .dataframe tbody tr th:only-of-type {\n",
       "        vertical-align: middle;\n",
       "    }\n",
       "\n",
       "    .dataframe tbody tr th {\n",
       "        vertical-align: top;\n",
       "    }\n",
       "\n",
       "    .dataframe thead th {\n",
       "        text-align: right;\n",
       "    }\n",
       "</style>\n",
       "<table border=\"1\" class=\"dataframe\">\n",
       "  <thead>\n",
       "    <tr style=\"text-align: right;\">\n",
       "      <th></th>\n",
       "      <th>NPVOptimal</th>\n",
       "      <th>sd_temp</th>\n",
       "      <th>sd_ocean_heat</th>\n",
       "      <th>sd_glaciers</th>\n",
       "      <th>sd_greenland</th>\n",
       "      <th>sd_antarctic</th>\n",
       "      <th>sd_gmsl</th>\n",
       "      <th>sigma_whitenoise_co2</th>\n",
       "      <th>rho_temperature</th>\n",
       "      <th>rho_ocean_heat</th>\n",
       "      <th>...</th>\n",
       "      <th>antarctic_bed_height0</th>\n",
       "      <th>antarctic_slope</th>\n",
       "      <th>antarctic_lambda</th>\n",
       "      <th>antarctic_temp_threshold</th>\n",
       "      <th>dvbm</th>\n",
       "      <th>movefactor</th>\n",
       "      <th>vslel</th>\n",
       "      <th>vslmult</th>\n",
       "      <th>wvel</th>\n",
       "      <th>wvpdl</th>\n",
       "    </tr>\n",
       "  </thead>\n",
       "  <tbody>\n",
       "    <tr>\n",
       "      <th>5663</th>\n",
       "      <td>0.047890</td>\n",
       "      <td>1.303040</td>\n",
       "      <td>-1.544997</td>\n",
       "      <td>-0.473345</td>\n",
       "      <td>1.759990</td>\n",
       "      <td>-0.141930</td>\n",
       "      <td>-1.625535</td>\n",
       "      <td>0.179741</td>\n",
       "      <td>-0.720490</td>\n",
       "      <td>-2.266087</td>\n",
       "      <td>...</td>\n",
       "      <td>-1.581039</td>\n",
       "      <td>-0.350341</td>\n",
       "      <td>0.509757</td>\n",
       "      <td>-0.390695</td>\n",
       "      <td>0.595211</td>\n",
       "      <td>0.294557</td>\n",
       "      <td>0.837000</td>\n",
       "      <td>-1.777675</td>\n",
       "      <td>0.465134</td>\n",
       "      <td>1.267598</td>\n",
       "    </tr>\n",
       "    <tr>\n",
       "      <th>2840</th>\n",
       "      <td>0.019852</td>\n",
       "      <td>-0.464178</td>\n",
       "      <td>-0.291550</td>\n",
       "      <td>-0.896062</td>\n",
       "      <td>-0.919514</td>\n",
       "      <td>0.154432</td>\n",
       "      <td>-1.170695</td>\n",
       "      <td>-0.592357</td>\n",
       "      <td>-1.021049</td>\n",
       "      <td>-1.478344</td>\n",
       "      <td>...</td>\n",
       "      <td>-0.401934</td>\n",
       "      <td>0.080697</td>\n",
       "      <td>-0.699954</td>\n",
       "      <td>0.294358</td>\n",
       "      <td>-0.857326</td>\n",
       "      <td>1.132552</td>\n",
       "      <td>-0.889074</td>\n",
       "      <td>-0.987113</td>\n",
       "      <td>1.646179</td>\n",
       "      <td>-0.334074</td>\n",
       "    </tr>\n",
       "    <tr>\n",
       "      <th>4550</th>\n",
       "      <td>0.037820</td>\n",
       "      <td>0.306064</td>\n",
       "      <td>0.431190</td>\n",
       "      <td>-0.069182</td>\n",
       "      <td>-0.892415</td>\n",
       "      <td>-0.750003</td>\n",
       "      <td>0.721647</td>\n",
       "      <td>-0.589750</td>\n",
       "      <td>0.480677</td>\n",
       "      <td>0.659484</td>\n",
       "      <td>...</td>\n",
       "      <td>-1.124758</td>\n",
       "      <td>0.784744</td>\n",
       "      <td>-0.216045</td>\n",
       "      <td>-0.702840</td>\n",
       "      <td>-0.467703</td>\n",
       "      <td>-0.032083</td>\n",
       "      <td>0.990827</td>\n",
       "      <td>0.970719</td>\n",
       "      <td>-1.353353</td>\n",
       "      <td>0.370280</td>\n",
       "    </tr>\n",
       "    <tr>\n",
       "      <th>17</th>\n",
       "      <td>0.044859</td>\n",
       "      <td>0.198380</td>\n",
       "      <td>-0.027799</td>\n",
       "      <td>-0.593954</td>\n",
       "      <td>-0.307593</td>\n",
       "      <td>-1.127703</td>\n",
       "      <td>1.557020</td>\n",
       "      <td>1.708466</td>\n",
       "      <td>0.028477</td>\n",
       "      <td>-2.766894</td>\n",
       "      <td>...</td>\n",
       "      <td>-0.425931</td>\n",
       "      <td>-1.127895</td>\n",
       "      <td>-1.140164</td>\n",
       "      <td>0.558064</td>\n",
       "      <td>0.885733</td>\n",
       "      <td>1.625859</td>\n",
       "      <td>-1.270316</td>\n",
       "      <td>1.097728</td>\n",
       "      <td>-1.275782</td>\n",
       "      <td>-1.986397</td>\n",
       "    </tr>\n",
       "    <tr>\n",
       "      <th>3442</th>\n",
       "      <td>0.043296</td>\n",
       "      <td>1.537660</td>\n",
       "      <td>0.466825</td>\n",
       "      <td>0.039014</td>\n",
       "      <td>-0.338227</td>\n",
       "      <td>0.170566</td>\n",
       "      <td>-0.576736</td>\n",
       "      <td>0.516892</td>\n",
       "      <td>0.216551</td>\n",
       "      <td>-1.671671</td>\n",
       "      <td>...</td>\n",
       "      <td>-0.939634</td>\n",
       "      <td>-0.463189</td>\n",
       "      <td>0.589879</td>\n",
       "      <td>-1.024407</td>\n",
       "      <td>0.512852</td>\n",
       "      <td>0.822359</td>\n",
       "      <td>-0.205136</td>\n",
       "      <td>-0.251980</td>\n",
       "      <td>-1.888463</td>\n",
       "      <td>-0.184110</td>\n",
       "    </tr>\n",
       "  </tbody>\n",
       "</table>\n",
       "<p>5 rows × 58 columns</p>\n",
       "</div>"
      ],
      "text/plain": [
       "      NPVOptimal   sd_temp  sd_ocean_heat  sd_glaciers  sd_greenland  \\\n",
       "5663    0.047890  1.303040      -1.544997    -0.473345      1.759990   \n",
       "2840    0.019852 -0.464178      -0.291550    -0.896062     -0.919514   \n",
       "4550    0.037820  0.306064       0.431190    -0.069182     -0.892415   \n",
       "17      0.044859  0.198380      -0.027799    -0.593954     -0.307593   \n",
       "3442    0.043296  1.537660       0.466825     0.039014     -0.338227   \n",
       "\n",
       "      sd_antarctic   sd_gmsl  sigma_whitenoise_co2  rho_temperature  \\\n",
       "5663     -0.141930 -1.625535              0.179741        -0.720490   \n",
       "2840      0.154432 -1.170695             -0.592357        -1.021049   \n",
       "4550     -0.750003  0.721647             -0.589750         0.480677   \n",
       "17       -1.127703  1.557020              1.708466         0.028477   \n",
       "3442      0.170566 -0.576736              0.516892         0.216551   \n",
       "\n",
       "      rho_ocean_heat  ...  antarctic_bed_height0  antarctic_slope  \\\n",
       "5663       -2.266087  ...              -1.581039        -0.350341   \n",
       "2840       -1.478344  ...              -0.401934         0.080697   \n",
       "4550        0.659484  ...              -1.124758         0.784744   \n",
       "17         -2.766894  ...              -0.425931        -1.127895   \n",
       "3442       -1.671671  ...              -0.939634        -0.463189   \n",
       "\n",
       "      antarctic_lambda  antarctic_temp_threshold      dvbm  movefactor  \\\n",
       "5663          0.509757                 -0.390695  0.595211    0.294557   \n",
       "2840         -0.699954                  0.294358 -0.857326    1.132552   \n",
       "4550         -0.216045                 -0.702840 -0.467703   -0.032083   \n",
       "17           -1.140164                  0.558064  0.885733    1.625859   \n",
       "3442          0.589879                 -1.024407  0.512852    0.822359   \n",
       "\n",
       "         vslel   vslmult      wvel     wvpdl  \n",
       "5663  0.837000 -1.777675  0.465134  1.267598  \n",
       "2840 -0.889074 -0.987113  1.646179 -0.334074  \n",
       "4550  0.990827  0.970719 -1.353353  0.370280  \n",
       "17   -1.270316  1.097728 -1.275782 -1.986397  \n",
       "3442 -0.205136 -0.251980 -1.888463 -0.184110  \n",
       "\n",
       "[5 rows x 58 columns]"
      ]
     },
     "execution_count": 13,
     "metadata": {},
     "output_type": "execute_result"
    }
   ],
   "source": [
    "df_train.head()"
   ]
  },
  {
   "attachments": {},
   "cell_type": "markdown",
   "metadata": {},
   "source": [
    "# For CV 3"
   ]
  },
  {
   "cell_type": "code",
   "execution_count": 14,
   "metadata": {},
   "outputs": [],
   "source": [
    "# Defining hyperparameters and fitting the model\n",
    "\n",
    "reg=RandomForestRegressor(random_state=42)\n",
    "param_grid = { \n",
    "            \"n_estimators\"      : [60, 75, 90, 100, 115, 125],\n",
    "            \"max_features\"      : [\"sqrt\"],\n",
    "            \"min_samples_split\" : [4,5,6,7,8],\n",
    "            \"max_depth\": [12,15,20,22,25,30],\n",
    "            \"bootstrap\": [True, False],\n",
    "            }"
   ]
  },
  {
   "cell_type": "code",
   "execution_count": 15,
   "metadata": {},
   "outputs": [
    {
     "data": {
      "text/plain": [
       "{'bootstrap': False,\n",
       " 'max_depth': 25,\n",
       " 'max_features': 'sqrt',\n",
       " 'min_samples_split': 6,\n",
       " 'n_estimators': 90}"
      ]
     },
     "execution_count": 15,
     "metadata": {},
     "output_type": "execute_result"
    }
   ],
   "source": [
    "\n",
    "CV3_reg = GridSearchCV(estimator=reg, param_grid=param_grid, cv= 3)\n",
    "CV3_reg.fit(X_train, y_train)\n",
    "\n",
    "# Getting the best parameters\n",
    "\n",
    "CV3_reg.best_params_"
   ]
  },
  {
   "cell_type": "code",
   "execution_count": 21,
   "metadata": {},
   "outputs": [
    {
     "name": "stdout",
     "output_type": "stream",
     "text": [
      "MSE for Random Forest on CV train data:  0.0000004539\n",
      "MSE for Random Forest on test data:  0.0000272330\n"
     ]
    },
    {
     "data": {
      "image/png": "[encoded data removed]",
      "text/plain": [
       "<Figure size 640x480 with 1 Axes>"
      ]
     },
     "metadata": {},
     "output_type": "display_data"
    }
   ],
   "source": [
    "# Fitting the model with the best parameters\n",
    "\n",
    "reg_cv3 = RandomForestRegressor(random_state=42, bootstrap=False, max_features='sqrt', min_samples_split = 6, \n",
    "n_estimators= 90, max_depth=25)\n",
    "reg_cv3.fit(X_train, y_train)\n",
    "pred=reg_cv3.predict(X_train)\n",
    "pred_test=reg_cv3.predict(X_test)\n",
    "\n",
    "# Calculating MSE\n",
    "\n",
    "print(\"MSE for Random Forest on CV train data: \", \"{:.10f}\".format(float(mean_squared_error(y_train, pred))))\n",
    "print(\"MSE for Random Forest on test data: \", \"{:.10f}\".format(float(mean_squared_error(y_test, pred_test))))\n",
    "\n",
    "\n",
    "# Obtaining feature importance\n",
    "feature_importance_cv3 = reg_cv3.feature_importances_\n",
    "\n",
    "# Sorting features according to importance\n",
    "sorted_idx = np.argsort(feature_importance_cv3)\n",
    "pos = np.arange(sorted_idx.shape[0])\n",
    "\n",
    "# Plotting feature importances\n",
    "plt.barh(pos, feature_importance_cv3[sorted_idx], align=\"center\")\n",
    "\n",
    "plt.yticks(pos, np.array(feature_names)[sorted_idx], size =5)\n",
    "\n",
    "plt.title(\"Feature Importance\")\n",
    "plt.xlabel(\"Importance score\");"
   ]
  },
  {
   "attachments": {},
   "cell_type": "markdown",
   "metadata": {},
   "source": [
    "# For CV 10"
   ]
  },
  {
   "cell_type": "code",
   "execution_count": 22,
   "metadata": {},
   "outputs": [
    {
     "data": {
      "text/plain": [
       "{'bootstrap': False,\n",
       " 'max_depth': 22,\n",
       " 'max_features': 'sqrt',\n",
       " 'min_samples_split': 6,\n",
       " 'n_estimators': 125}"
      ]
     },
     "execution_count": 22,
     "metadata": {},
     "output_type": "execute_result"
    }
   ],
   "source": [
    "CV10_reg = GridSearchCV(estimator=reg, param_grid=param_grid, cv= 10)\n",
    "CV10_reg.fit(X_train, y_train)\n",
    "\n",
    "# Getting the best parameters\n",
    "\n",
    "CV10_reg.best_params_"
   ]
  },
  {
   "cell_type": "code",
   "execution_count": 23,
   "metadata": {},
   "outputs": [
    {
     "name": "stdout",
     "output_type": "stream",
     "text": [
      "MSE for Random Forest on CV train data:  0.0000004794\n",
      "MSE for Random Forest on test data:  0.0000267525\n"
     ]
    },
    {
     "data": {
      "image/png": "[encoded data removed]",
      "text/plain": [
       "<Figure size 640x480 with 1 Axes>"
      ]
     },
     "metadata": {},
     "output_type": "display_data"
    }
   ],
   "source": [
    "# Fitting the model with the best parameters\n",
    "\n",
    "reg_cv10 = RandomForestRegressor(random_state=42, bootstrap=False, max_features='sqrt', min_samples_split = 6, \n",
    "n_estimators= 125, max_depth=22)\n",
    "reg_cv10.fit(X_train, y_train)\n",
    "pred=reg_cv10.predict(X_train)\n",
    "pred_test=reg_cv10.predict(X_test)\n",
    "\n",
    "# Calculating MSE\n",
    "\n",
    "print(\"MSE for Random Forest on CV train data: \", \"{:.10f}\".format(float(mean_squared_error(y_train, pred))))\n",
    "print(\"MSE for Random Forest on test data: \", \"{:.10f}\".format(float(mean_squared_error(y_test, pred_test))))\n",
    "\n",
    "\n",
    "# Obtaining feature importance\n",
    "feature_importance_cv10 = reg_cv10.feature_importances_\n",
    "\n",
    "# Sorting features according to importance\n",
    "sorted_idx = np.argsort(feature_importance_cv10)\n",
    "pos = np.arange(sorted_idx.shape[0])\n",
    "\n",
    "# Plotting feature importances\n",
    "plt.barh(pos, feature_importance_cv10[sorted_idx], align=\"center\")\n",
    "\n",
    "plt.yticks(pos, np.array(feature_names)[sorted_idx], size =5)\n",
    "\n",
    "plt.title(\"Feature Importance\")\n",
    "plt.xlabel(\"Importance score\");"
   ]
  },
  {
   "attachments": {},
   "cell_type": "markdown",
   "metadata": {},
   "source": [
    "# For CV 5"
   ]
  },
  {
   "cell_type": "code",
   "execution_count": 24,
   "metadata": {},
   "outputs": [
    {
     "data": {
      "text/plain": [
       "{'bootstrap': False,\n",
       " 'max_depth': 30,\n",
       " 'max_features': 'sqrt',\n",
       " 'min_samples_split': 4,\n",
       " 'n_estimators': 125}"
      ]
     },
     "execution_count": 24,
     "metadata": {},
     "output_type": "execute_result"
    }
   ],
   "source": [
    "CV5_reg = GridSearchCV(estimator=reg, param_grid=param_grid, cv= 5)\n",
    "CV5_reg.fit(X_train, y_train)\n",
    "\n",
    "# Getting the best parameters\n",
    "\n",
    "CV5_reg.best_params_"
   ]
  },
  {
   "cell_type": "code",
   "execution_count": 25,
   "metadata": {},
   "outputs": [
    {
     "name": "stdout",
     "output_type": "stream",
     "text": [
      "MSE for Random Forest on CV train data:  0.0000000889\n",
      "MSE for Random Forest on test data:  0.0000267564\n"
     ]
    },
    {
     "data": {
      "image/png": "[encoded data removed]",
      "text/plain": [
       "<Figure size 640x480 with 1 Axes>"
      ]
     },
     "metadata": {},
     "output_type": "display_data"
    }
   ],
   "source": [
    "# Fitting the model with the best parameters\n",
    "\n",
    "reg_cv5 = RandomForestRegressor(random_state=42, bootstrap=False, max_features='sqrt', min_samples_split = 4, \n",
    "n_estimators= 125, max_depth=30)\n",
    "reg_cv5.fit(X_train, y_train)\n",
    "pred=reg_cv5.predict(X_train)\n",
    "pred_test=reg_cv5.predict(X_test)\n",
    "\n",
    "# Calculating MSE\n",
    "\n",
    "print(\"MSE for Random Forest on CV train data: \", \"{:.10f}\".format(float(mean_squared_error(y_train, pred))))\n",
    "print(\"MSE for Random Forest on test data: \", \"{:.10f}\".format(float(mean_squared_error(y_test, pred_test))))\n",
    "\n",
    "\n",
    "# Obtaining feature importance\n",
    "feature_importance_cv5 = reg_cv5.feature_importances_\n",
    "\n",
    "# Sorting features according to importance\n",
    "sorted_idx = np.argsort(feature_importance_cv5)\n",
    "pos = np.arange(sorted_idx.shape[0])\n",
    "\n",
    "# Plotting feature importances\n",
    "plt.barh(pos, feature_importance_cv5[sorted_idx], align=\"center\")\n",
    "\n",
    "plt.yticks(pos, np.array(feature_names)[sorted_idx], size =5)\n",
    "\n",
    "plt.title(\"Feature Importance\")\n",
    "plt.xlabel(\"Importance score\");"
   ]
  },
  {
   "attachments": {},
   "cell_type": "markdown",
   "metadata": {},
   "source": [
    "# Using important features"
   ]
  },
  {
   "cell_type": "code",
   "execution_count": 26,
   "metadata": {},
   "outputs": [
    {
     "data": {
      "text/plain": [
       "{'bootstrap': True,\n",
       " 'max_depth': 15,\n",
       " 'max_features': 'sqrt',\n",
       " 'min_samples_split': 4,\n",
       " 'n_estimators': 125}"
      ]
     },
     "execution_count": 26,
     "metadata": {},
     "output_type": "execute_result"
    }
   ],
   "source": [
    "important_features_cv3 = [i for i in range(len(feature_importance_cv3)) if feature_importance_cv3[i] > 0.02]\n",
    "X_train_reduced = X_train.iloc[:, important_features_cv3]\n",
    "X_test_reduced = X_test.iloc[:, important_features_cv3]\n",
    "CV3_reg.fit(X_train_reduced, y_train)\n",
    "\n",
    "# Getting the best parameters\n",
    "\n",
    "CV3_reg.best_params_"
   ]
  },
  {
   "cell_type": "code",
   "execution_count": 28,
   "metadata": {},
   "outputs": [
    {
     "name": "stdout",
     "output_type": "stream",
     "text": [
      "MSE for Random Forest on CV train data:  0.0000028109\n",
      "MSE for Random Forest on test data:  0.0000311965\n"
     ]
    }
   ],
   "source": [
    "# Fitting the model with the best parameters\n",
    "\n",
    "reg_cv3 = RandomForestRegressor(random_state=42, bootstrap=False, max_features='sqrt', min_samples_split = 5, \n",
    "n_estimators= 120, max_depth=15)\n",
    "reg_cv3.fit(X_train, y_train)\n",
    "pred=reg_cv3.predict(X_train)\n",
    "pred_test=reg_cv3.predict(X_test)\n",
    "\n",
    "# Calculating MSE\n",
    "\n",
    "print(\"MSE for Random Forest on CV train data: \", \"{:.10f}\".format(float(mean_squared_error(y_train, pred))))\n",
    "print(\"MSE for Random Forest on test data: \", \"{:.10f}\".format(float(mean_squared_error(y_test, pred_test))))\n",
    "\n"
   ]
  }
 ],
 "metadata": {
  "kernelspec": {
   "display_name": "Python 3",
   "language": "python",
   "name": "python3"
  },
  "language_info": {
   "codemirror_mode": {
    "name": "ipython",
    "version": 3
   },
   "file_extension": ".py",
   "mimetype": "text/x-python",
   "name": "python",
   "nbconvert_exporter": "python",
   "pygments_lexer": "ipython3",
   "version": "3.7.6"
  },
  "orig_nbformat": 4,
  "vscode": {
   "interpreter": {
    "hash": "173b1ad0e598a21817c913127c0ed612d69b6c3d0fd1e8e7f3c7ab65a8d7b09a"
   }
  }
 },
 "nbformat": 4,
 "nbformat_minor": 2
}
